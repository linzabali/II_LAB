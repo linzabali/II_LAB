{
 "cells": [
  {
   "cell_type": "markdown",
   "id": "2511a012-1b93-4a39-a701-719dc14379df",
   "metadata": {},
   "source": [
    "ЛАБОРАТОРНАЯ РАБОТА 3 Храмцова Елизавета БИВТ-22-СП-1"
   ]
  },
  {
   "cell_type": "code",
   "execution_count": 2,
   "id": "31466850-7bbb-4447-9a8e-d2c15165b104",
   "metadata": {},
   "outputs": [
    {
     "data": {
      "text/html": [
       "<div>\n",
       "<style scoped>\n",
       "    .dataframe tbody tr th:only-of-type {\n",
       "        vertical-align: middle;\n",
       "    }\n",
       "\n",
       "    .dataframe tbody tr th {\n",
       "        vertical-align: top;\n",
       "    }\n",
       "\n",
       "    .dataframe thead th {\n",
       "        text-align: right;\n",
       "    }\n",
       "</style>\n",
       "<table border=\"1\" class=\"dataframe\">\n",
       "  <thead>\n",
       "    <tr style=\"text-align: right;\">\n",
       "      <th></th>\n",
       "      <th>EducationSector</th>\n",
       "      <th>IndividualProject</th>\n",
       "      <th>Age</th>\n",
       "      <th>Gender</th>\n",
       "      <th>City</th>\n",
       "      <th>Influenced</th>\n",
       "      <th>Perseverance</th>\n",
       "      <th>DesireToTakeInitiative</th>\n",
       "      <th>Competitiveness</th>\n",
       "      <th>SelfReliance</th>\n",
       "      <th>StrongNeedToAchieve</th>\n",
       "      <th>SelfConfidence</th>\n",
       "      <th>GoodPhysicalHealth</th>\n",
       "      <th>MentalDisorder</th>\n",
       "      <th>KeyTraits</th>\n",
       "      <th>ReasonsForLack</th>\n",
       "      <th>y</th>\n",
       "    </tr>\n",
       "  </thead>\n",
       "  <tbody>\n",
       "    <tr>\n",
       "      <th>0</th>\n",
       "      <td>Engineering Sciences</td>\n",
       "      <td>No</td>\n",
       "      <td>19</td>\n",
       "      <td>Male</td>\n",
       "      <td>Yes</td>\n",
       "      <td>No</td>\n",
       "      <td>2</td>\n",
       "      <td>2</td>\n",
       "      <td>3</td>\n",
       "      <td>3</td>\n",
       "      <td>2</td>\n",
       "      <td>2</td>\n",
       "      <td>3</td>\n",
       "      <td>Yes</td>\n",
       "      <td>Passion</td>\n",
       "      <td>NaN</td>\n",
       "      <td>1</td>\n",
       "    </tr>\n",
       "    <tr>\n",
       "      <th>1</th>\n",
       "      <td>Engineering Sciences</td>\n",
       "      <td>Yes</td>\n",
       "      <td>22</td>\n",
       "      <td>Male</td>\n",
       "      <td>No</td>\n",
       "      <td>Yes</td>\n",
       "      <td>3</td>\n",
       "      <td>3</td>\n",
       "      <td>3</td>\n",
       "      <td>4</td>\n",
       "      <td>4</td>\n",
       "      <td>3</td>\n",
       "      <td>4</td>\n",
       "      <td>Yes</td>\n",
       "      <td>Vision</td>\n",
       "      <td>Just not interested! (Want to work in the corp...</td>\n",
       "      <td>0</td>\n",
       "    </tr>\n",
       "    <tr>\n",
       "      <th>2</th>\n",
       "      <td>Engineering Sciences</td>\n",
       "      <td>No</td>\n",
       "      <td>18</td>\n",
       "      <td>Male</td>\n",
       "      <td>Yes</td>\n",
       "      <td>No</td>\n",
       "      <td>3</td>\n",
       "      <td>4</td>\n",
       "      <td>3</td>\n",
       "      <td>3</td>\n",
       "      <td>3</td>\n",
       "      <td>4</td>\n",
       "      <td>4</td>\n",
       "      <td>No</td>\n",
       "      <td>Passion</td>\n",
       "      <td>Not willing to start a venture in India and wa...</td>\n",
       "      <td>0</td>\n",
       "    </tr>\n",
       "    <tr>\n",
       "      <th>3</th>\n",
       "      <td>Engineering Sciences</td>\n",
       "      <td>Yes</td>\n",
       "      <td>20</td>\n",
       "      <td>Male</td>\n",
       "      <td>Yes</td>\n",
       "      <td>Yes</td>\n",
       "      <td>3</td>\n",
       "      <td>3</td>\n",
       "      <td>3</td>\n",
       "      <td>3</td>\n",
       "      <td>4</td>\n",
       "      <td>3</td>\n",
       "      <td>3</td>\n",
       "      <td>No</td>\n",
       "      <td>Resilience</td>\n",
       "      <td>Not able to take a Financial Risk</td>\n",
       "      <td>0</td>\n",
       "    </tr>\n",
       "    <tr>\n",
       "      <th>4</th>\n",
       "      <td>Engineering Sciences</td>\n",
       "      <td>Yes</td>\n",
       "      <td>19</td>\n",
       "      <td>Male</td>\n",
       "      <td>Yes</td>\n",
       "      <td>Yes</td>\n",
       "      <td>2</td>\n",
       "      <td>3</td>\n",
       "      <td>3</td>\n",
       "      <td>3</td>\n",
       "      <td>4</td>\n",
       "      <td>3</td>\n",
       "      <td>2</td>\n",
       "      <td>Yes</td>\n",
       "      <td>Vision</td>\n",
       "      <td>NaN</td>\n",
       "      <td>1</td>\n",
       "    </tr>\n",
       "  </tbody>\n",
       "</table>\n",
       "</div>"
      ],
      "text/plain": [
       "        EducationSector IndividualProject  Age Gender City Influenced  \\\n",
       "0  Engineering Sciences                No   19   Male  Yes         No   \n",
       "1  Engineering Sciences               Yes   22   Male   No        Yes   \n",
       "2  Engineering Sciences                No   18   Male  Yes         No   \n",
       "3  Engineering Sciences               Yes   20   Male  Yes        Yes   \n",
       "4  Engineering Sciences               Yes   19   Male  Yes        Yes   \n",
       "\n",
       "   Perseverance  DesireToTakeInitiative  Competitiveness  SelfReliance  \\\n",
       "0             2                       2                3             3   \n",
       "1             3                       3                3             4   \n",
       "2             3                       4                3             3   \n",
       "3             3                       3                3             3   \n",
       "4             2                       3                3             3   \n",
       "\n",
       "   StrongNeedToAchieve  SelfConfidence  GoodPhysicalHealth MentalDisorder  \\\n",
       "0                    2               2                   3            Yes   \n",
       "1                    4               3                   4            Yes   \n",
       "2                    3               4                   4             No   \n",
       "3                    4               3                   3             No   \n",
       "4                    4               3                   2            Yes   \n",
       "\n",
       "    KeyTraits                                     ReasonsForLack  y  \n",
       "0     Passion                                                NaN  1  \n",
       "1      Vision  Just not interested! (Want to work in the corp...  0  \n",
       "2     Passion  Not willing to start a venture in India and wa...  0  \n",
       "3  Resilience                  Not able to take a Financial Risk  0  \n",
       "4      Vision                                                NaN  1  "
      ]
     },
     "execution_count": 2,
     "metadata": {},
     "output_type": "execute_result"
    }
   ],
   "source": [
    "import pandas as pd\n",
    "from sklearn.model_selection import train_test_split\n",
    "file_path = r'C:\\Users\\eliza\\Downloads\\data (1).csv'  \n",
    "data = pd.read_csv(file_path)\n",
    "data.head()"
   ]
  },
  {
   "cell_type": "code",
   "execution_count": 3,
   "id": "9114e203-4be9-4160-b23c-29397314c3b3",
   "metadata": {},
   "outputs": [
    {
     "name": "stdout",
     "output_type": "stream",
     "text": [
      "EducationSector            0\n",
      "IndividualProject          0\n",
      "Age                        0\n",
      "Gender                     0\n",
      "City                       0\n",
      "Influenced                 0\n",
      "Perseverance               0\n",
      "DesireToTakeInitiative     0\n",
      "Competitiveness            0\n",
      "SelfReliance               0\n",
      "StrongNeedToAchieve        0\n",
      "SelfConfidence             0\n",
      "GoodPhysicalHealth         0\n",
      "MentalDisorder             0\n",
      "KeyTraits                  0\n",
      "ReasonsForLack            91\n",
      "y                          0\n",
      "dtype: int64\n"
     ]
    }
   ],
   "source": [
    "print(data.isnull().sum())"
   ]
  },
  {
   "cell_type": "markdown",
   "id": "20ed0df1-4668-496e-857d-8f12fbcad4a1",
   "metadata": {},
   "source": [
    "train test"
   ]
  },
  {
   "cell_type": "code",
   "execution_count": 4,
   "id": "3c305896-53de-4e99-ae74-3d0e9c9194f6",
   "metadata": {},
   "outputs": [],
   "source": [
    "data = pd.get_dummies(data, drop_first=True)"
   ]
  },
  {
   "cell_type": "code",
   "execution_count": null,
   "id": "ad628f2f-82a7-4a00-9048-803120bb042f",
   "metadata": {},
   "outputs": [],
   "source": [
    "from sklearn.model_selection import train_test_split\n",
    "\n",
    "X = data.drop('y', axis=1)\n",
    "y = data['y']\n",
    "\n",
    "X_train, X_test, y_train, y_test = train_test_split(X, y, test_size=0.3, random_state=0)\n"
   ]
  },
  {
   "cell_type": "code",
   "execution_count": null,
   "id": "d9af8d35-c5e5-4646-88a2-cddd2b1f3339",
   "metadata": {},
   "outputs": [],
   "source": [
    "Нормировка"
   ]
  },
  {
   "cell_type": "code",
   "execution_count": 6,
   "id": "31c34498-4bb4-432d-b013-4b7063a91a42",
   "metadata": {},
   "outputs": [],
   "source": [
    "from sklearn.preprocessing import StandardScaler\n",
    "\n",
    "scaler = StandardScaler()\n",
    "\n",
    "X_train_scaled = scaler.fit_transform(X_train)\n",
    "X_test_scaled = scaler.transform(X_test)"
   ]
  },
  {
   "cell_type": "markdown",
   "id": "75772463-f601-4824-9a30-40380748a9f6",
   "metadata": {},
   "source": [
    " Обучение модели"
   ]
  },
  {
   "cell_type": "code",
   "execution_count": null,
   "id": "268e9e56-1fea-4dfe-9aea-f0e91b89ec4d",
   "metadata": {},
   "outputs": [],
   "source": [
    "Линейная регрессия"
   ]
  },
  {
   "cell_type": "code",
   "execution_count": 7,
   "id": "2072c49f-1775-4100-bdd4-a090146c4c31",
   "metadata": {},
   "outputs": [],
   "source": [
    "from sklearn.linear_model import LinearRegression\n",
    "\n",
    "linear_model = LinearRegression()\n",
    "linear_model.fit(X_train_scaled, y_train);"
   ]
  },
  {
   "cell_type": "markdown",
   "id": "af7c982b-cc1b-4ad9-9e2c-34e407cac12e",
   "metadata": {},
   "source": [
    "Деревянная модель"
   ]
  },
  {
   "cell_type": "code",
   "execution_count": 8,
   "id": "e2cc431c-298c-46e1-a6cf-19afa811afe7",
   "metadata": {},
   "outputs": [],
   "source": [
    "from sklearn.tree import DecisionTreeRegressor\n",
    "\n",
    "tree_model = DecisionTreeRegressor(random_state=0)\n",
    "tree_model.fit(X_train_scaled, y_train);"
   ]
  },
  {
   "cell_type": "code",
   "execution_count": null,
   "id": "b071ca32-1c37-490c-9135-6c4e1ca94f46",
   "metadata": {},
   "outputs": [],
   "source": [
    "Метод K-ближайших соседей"
   ]
  },
  {
   "cell_type": "code",
   "execution_count": 17,
   "id": "28e51da6-cc62-4493-b327-ec47623e34e5",
   "metadata": {},
   "outputs": [],
   "source": [
    "from sklearn.neighbors import KNeighborsRegressor\n",
    "\n",
    "knn_model = KNeighborsRegressor(n_neighbors=2)\n",
    "knn_model.fit(X_train_scaled, y_train);"
   ]
  },
  {
   "cell_type": "markdown",
   "id": "eb8dd12b-309a-4acd-bce5-6f3178227e57",
   "metadata": {},
   "source": [
    "Метод Случайный лес"
   ]
  },
  {
   "cell_type": "code",
   "execution_count": 20,
   "id": "2dddb849-db2a-4dfb-ad63-70d6458ec423",
   "metadata": {},
   "outputs": [],
   "source": [
    "from sklearn.ensemble import RandomForestRegressor\n",
    "\n",
    "forest_model = RandomForestRegressor(n_estimators=100, random_state=0)\n",
    "forest_model.fit(X_train_scaled, y_train);"
   ]
  },
  {
   "cell_type": "markdown",
   "id": "259220e9-e96f-402d-a8db-091d4bfc2e77",
   "metadata": {},
   "source": [
    "Расчет метрик"
   ]
  },
  {
   "cell_type": "code",
   "execution_count": 21,
   "id": "95fb3a57-bf0e-4254-b559-bdb68a88e76b",
   "metadata": {},
   "outputs": [],
   "source": [
    "from sklearn.metrics import mean_absolute_error, mean_squared_error, mean_absolute_percentage_error"
   ]
  },
  {
   "cell_type": "markdown",
   "id": "b0afa2f6-bb04-419e-a317-d2f4d3b225f8",
   "metadata": {},
   "source": [
    "Линейная регрессия"
   ]
  },
  {
   "cell_type": "code",
   "execution_count": 22,
   "id": "4de5ab8c-f7b2-4f3c-94f5-8b21a773bc12",
   "metadata": {},
   "outputs": [
    {
     "name": "stdout",
     "output_type": "stream",
     "text": [
      "MAE: 26603924189.631542\n",
      "RMSE: 4.664762841573123e+22\n",
      "MAPE: 1.1981342306685466e+26\n"
     ]
    }
   ],
   "source": [
    "y_pred_linear = linear_model.predict(X_test_scaled)\n",
    "\n",
    "mae = mean_absolute_error(y_test, y_pred_linear)\n",
    "rmse = mean_squared_error(y_test, y_pred_linear)\n",
    "mape = mean_absolute_percentage_error(y_test, y_pred_linear)\n",
    "\n",
    "print(f\"MAE: {mae}\")\n",
    "print(f\"RMSE: {rmse}\")\n",
    "print(f\"MAPE: {mape}\")"
   ]
  },
  {
   "cell_type": "markdown",
   "id": "f046cdf8-8364-474e-be30-c9a4522dbd0c",
   "metadata": {},
   "source": [
    "Деревянная модель"
   ]
  },
  {
   "cell_type": "code",
   "execution_count": 23,
   "id": "133e13db-81ab-4dc0-82ac-a4e768959d86",
   "metadata": {},
   "outputs": [
    {
     "name": "stdout",
     "output_type": "stream",
     "text": [
      "MAE: 0.4090909090909091\n",
      "RMSE: 0.4090909090909091\n",
      "MAPE: 1091781727847393.0\n"
     ]
    }
   ],
   "source": [
    "y_pred_tree = tree_model.predict(X_test_scaled)\n",
    "\n",
    "mae = mean_absolute_error(y_test, y_pred_tree)\n",
    "rmse = mean_squared_error(y_test, y_pred_tree)\n",
    "mape = mean_absolute_percentage_error(y_test, y_pred_tree)\n",
    "print(f\"MAE: {mae}\")\n",
    "print(f\"RMSE: {rmse}\")\n",
    "print(f\"MAPE: {mape}\")"
   ]
  },
  {
   "cell_type": "markdown",
   "id": "e1f48b9f-aed4-492f-8af7-8e012b0309a2",
   "metadata": {},
   "source": [
    "Метод K-ближайших соседей\n"
   ]
  },
  {
   "cell_type": "code",
   "execution_count": 24,
   "id": "2b6f3749-1b8e-49f5-8506-eaff2647b07e",
   "metadata": {},
   "outputs": [
    {
     "name": "stdout",
     "output_type": "stream",
     "text": [
      "MAE: 0.3787878787878788\n",
      "RMSE: 0.2878787878787879\n",
      "MAPE: 1432963517799703.2\n"
     ]
    }
   ],
   "source": [
    "y_pred_knn = knn_model.predict(X_test_scaled)\n",
    "\n",
    "mae = mean_absolute_error(y_test, y_pred_knn)\n",
    "rmse = mean_squared_error(y_test, y_pred_knn)\n",
    "mape = mean_absolute_percentage_error(y_test, y_pred_knn)\n",
    "print(f\"MAE: {mae}\")\n",
    "print(f\"RMSE: {rmse}\")\n",
    "print(f\"MAPE: {mape}\")"
   ]
  },
  {
   "cell_type": "code",
   "execution_count": null,
   "id": "c0cd659f-d21a-4fff-a2e0-15882edf3bda",
   "metadata": {},
   "outputs": [],
   "source": [
    "Метод Случайный лес"
   ]
  },
  {
   "cell_type": "code",
   "execution_count": 25,
   "id": "45690b2e-46bf-43be-aa33-138aa4bfbd0b",
   "metadata": {},
   "outputs": [
    {
     "name": "stdout",
     "output_type": "stream",
     "text": [
      "MAE: 0.3963636363636364\n",
      "RMSE: 0.23355151515151515\n",
      "MAPE: 1289667166019732.8\n"
     ]
    }
   ],
   "source": [
    "y_pred_forest = forest_model.predict(X_test_scaled)\n",
    "\n",
    "mae = mean_absolute_error(y_test, y_pred_forest)\n",
    "rmse = mean_squared_error(y_test, y_pred_forest)\n",
    "mape = mean_absolute_percentage_error(y_test, y_pred_forest)\n",
    "print(f\"MAE: {mae}\")\n",
    "print(f\"RMSE: {rmse}\")\n",
    "print(f\"MAPE: {mape}\")"
   ]
  },
  {
   "cell_type": "code",
   "execution_count": null,
   "id": "bf6e2fd9-d246-4f0d-8522-0dd02a7ba76f",
   "metadata": {},
   "outputs": [],
   "source": [
    "Какая модель справилась лучше с поставленной задачей? случайный лес показал лучшие результаты, основываясь на наименьшем значении RMSE, что говорит о наилучшем балансе между смещением и дисперсией. "
   ]
  }
 ],
 "metadata": {
  "kernelspec": {
   "display_name": "Python 3 (ipykernel)",
   "language": "python",
   "name": "python3"
  },
  "language_info": {
   "codemirror_mode": {
    "name": "ipython",
    "version": 3
   },
   "file_extension": ".py",
   "mimetype": "text/x-python",
   "name": "python",
   "nbconvert_exporter": "python",
   "pygments_lexer": "ipython3",
   "version": "3.12.6"
  }
 },
 "nbformat": 4,
 "nbformat_minor": 5
}
